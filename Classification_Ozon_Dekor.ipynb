{
  "nbformat": 4,
  "nbformat_minor": 0,
  "metadata": {
    "colab": {
      "provenance": [],
      "authorship_tag": "ABX9TyO0XunYSibPU28RMfbD8u8h"
    },
    "kernelspec": {
      "name": "python3",
      "display_name": "Python 3"
    },
    "language_info": {
      "name": "python"
    }
  },
  "cells": [
    {
      "cell_type": "code",
      "execution_count": null,
      "metadata": {
        "colab": {
          "base_uri": "https://localhost:8080/"
        },
        "id": "b0AaMt9N2WmL",
        "outputId": "d87e46f6-af95-4d1c-88a3-f0a123fb141e"
      },
      "outputs": [
        {
          "output_type": "stream",
          "name": "stdout",
          "text": [
            "Mounted at /content/drive\n"
          ]
        }
      ],
      "source": [
        "from google.colab import drive\n",
        "drive.mount('/content/drive')"
      ]
    },
    {
      "cell_type": "code",
      "source": [
        "%tensorflow_version 2.x\n",
        "import tensorflow as tf\n",
        "from tensorflow.keras.models import Sequential\n",
        "from tensorflow.keras.layers import Dense, Embedding, MaxPooling1D, Conv1D, GlobalMaxPooling1D, Dropout, LSTM, GRU\n",
        "from tensorflow.keras import utils\n",
        "from tensorflow.keras.preprocessing.sequence import pad_sequences\n",
        "from tensorflow.keras.preprocessing.text import Tokenizer\n",
        "from tensorflow.keras.callbacks import ModelCheckpoint\n",
        "from tensorflow.keras.models import load_model\n",
        "import pandas as pd\n",
        "import numpy as np\n",
        "import matplotlib.pyplot as plt\n",
        "import joblib\n",
        "%matplotlib inline\n",
        "import pickle"
      ],
      "metadata": {
        "colab": {
          "base_uri": "https://localhost:8080/"
        },
        "id": "bgyhSfsv2ZOH",
        "outputId": "cd9bc6d9-f885-4adb-bdf8-7c6c4e847b99"
      },
      "execution_count": null,
      "outputs": [
        {
          "output_type": "stream",
          "name": "stdout",
          "text": [
            "Colab only includes TensorFlow 2.x; %tensorflow_version has no effect.\n"
          ]
        }
      ]
    },
    {
      "cell_type": "code",
      "source": [
        "!pip install pymorphy2\n",
        "!pip install nltk\n",
        "!pip install imbalanced-learn"
      ],
      "metadata": {
        "colab": {
          "base_uri": "https://localhost:8080/"
        },
        "id": "HoQZlXKR2d42",
        "outputId": "57ca5c4a-5563-4a8c-8911-bf1c44dfd21d"
      },
      "execution_count": null,
      "outputs": [
        {
          "output_type": "stream",
          "name": "stdout",
          "text": [
            "Requirement already satisfied: pymorphy2 in /usr/local/lib/python3.10/dist-packages (0.9.1)\n",
            "Requirement already satisfied: dawg-python>=0.7.1 in /usr/local/lib/python3.10/dist-packages (from pymorphy2) (0.7.2)\n",
            "Requirement already satisfied: pymorphy2-dicts-ru<3.0,>=2.4 in /usr/local/lib/python3.10/dist-packages (from pymorphy2) (2.4.417127.4579844)\n",
            "Requirement already satisfied: docopt>=0.6 in /usr/local/lib/python3.10/dist-packages (from pymorphy2) (0.6.2)\n",
            "Requirement already satisfied: nltk in /usr/local/lib/python3.10/dist-packages (3.8.1)\n",
            "Requirement already satisfied: click in /usr/local/lib/python3.10/dist-packages (from nltk) (8.1.7)\n",
            "Requirement already satisfied: joblib in /usr/local/lib/python3.10/dist-packages (from nltk) (1.4.2)\n",
            "Requirement already satisfied: regex>=2021.8.3 in /usr/local/lib/python3.10/dist-packages (from nltk) (2023.12.25)\n",
            "Requirement already satisfied: tqdm in /usr/local/lib/python3.10/dist-packages (from nltk) (4.66.4)\n",
            "Requirement already satisfied: imbalanced-learn in /usr/local/lib/python3.10/dist-packages (0.10.1)\n",
            "Requirement already satisfied: numpy>=1.17.3 in /usr/local/lib/python3.10/dist-packages (from imbalanced-learn) (1.25.2)\n",
            "Requirement already satisfied: scipy>=1.3.2 in /usr/local/lib/python3.10/dist-packages (from imbalanced-learn) (1.11.4)\n",
            "Requirement already satisfied: scikit-learn>=1.0.2 in /usr/local/lib/python3.10/dist-packages (from imbalanced-learn) (1.2.2)\n",
            "Requirement already satisfied: joblib>=1.1.1 in /usr/local/lib/python3.10/dist-packages (from imbalanced-learn) (1.4.2)\n",
            "Requirement already satisfied: threadpoolctl>=2.0.0 in /usr/local/lib/python3.10/dist-packages (from imbalanced-learn) (3.5.0)\n"
          ]
        }
      ]
    },
    {
      "cell_type": "code",
      "source": [
        "import nltk\n",
        "import pymorphy2\n",
        "from nltk.corpus import stopwords\n",
        "from sklearn.model_selection import train_test_split\n",
        "from sklearn.utils.class_weight import compute_class_weight\n",
        "from imblearn.combine import SMOTEENN"
      ],
      "metadata": {
        "id": "UN7EGmQD2fiH"
      },
      "execution_count": null,
      "outputs": []
    },
    {
      "cell_type": "markdown",
      "source": [
        "## Загрузка набора данных"
      ],
      "metadata": {
        "id": "wkEFV7Ey2mha"
      }
    },
    {
      "cell_type": "code",
      "source": [
        "file_path = '/content/drive/MyDrive/Dekor/Learn.xlsx'"
      ],
      "metadata": {
        "id": "2HSO1ogj2i1Z"
      },
      "execution_count": null,
      "outputs": []
    },
    {
      "cell_type": "code",
      "source": [
        "df = pd.read_excel(file_path, sheet_name='one')\n",
        "print(df.info())"
      ],
      "metadata": {
        "colab": {
          "base_uri": "https://localhost:8080/"
        },
        "id": "BuGQTEOT2vb1",
        "outputId": "498b8f96-1751-4040-a416-2d35040dbc1e"
      },
      "execution_count": null,
      "outputs": [
        {
          "output_type": "stream",
          "name": "stdout",
          "text": [
            "<class 'pandas.core.frame.DataFrame'>\n",
            "RangeIndex: 51875 entries, 0 to 51874\n",
            "Data columns (total 2 columns):\n",
            " #   Column    Non-Null Count  Dtype \n",
            "---  ------    --------------  ----- \n",
            " 0   Name      51875 non-null  object\n",
            " 1   Category  51875 non-null  int64 \n",
            "dtypes: int64(1), object(1)\n",
            "memory usage: 810.7+ KB\n",
            "None\n"
          ]
        }
      ]
    },
    {
      "cell_type": "code",
      "source": [
        "print(df['Category'].value_counts())"
      ],
      "metadata": {
        "colab": {
          "base_uri": "https://localhost:8080/"
        },
        "id": "jqFFq9Fj2yiI",
        "outputId": "169b8717-28cf-44ae-b721-a5dec80662a6"
      },
      "execution_count": null,
      "outputs": [
        {
          "output_type": "stream",
          "name": "stdout",
          "text": [
            "Category\n",
            "56    7115\n",
            "17    6710\n",
            "33    4060\n",
            "29    3486\n",
            "55    2581\n",
            "      ... \n",
            "7       49\n",
            "11      48\n",
            "43      44\n",
            "18      42\n",
            "14      21\n",
            "Name: count, Length: 61, dtype: int64\n"
          ]
        }
      ]
    },
    {
      "cell_type": "code",
      "source": [
        "# Максимальное количество слов\n",
        "num_words = 20000\n",
        "# Максимальная длина\n",
        "max_news_len = 15\n",
        "# Количество классов\n",
        "nb_classes = 61"
      ],
      "metadata": {
        "id": "TUhlnalc20tQ"
      },
      "execution_count": null,
      "outputs": []
    },
    {
      "cell_type": "markdown",
      "source": [
        "## Предобработка данных"
      ],
      "metadata": {
        "id": "xBayGgEk5bAa"
      }
    },
    {
      "cell_type": "code",
      "source": [
        "nltk.download('punkt')  # Токенизатор\n",
        "nltk.download('stopwords')  # Список стоп-слов"
      ],
      "metadata": {
        "colab": {
          "base_uri": "https://localhost:8080/"
        },
        "id": "nmo90atX5fC4",
        "outputId": "5b83d2ba-d0f5-4b3e-bf20-a0bc2f78c9cf"
      },
      "execution_count": null,
      "outputs": [
        {
          "output_type": "stream",
          "name": "stderr",
          "text": [
            "[nltk_data] Downloading package punkt to /root/nltk_data...\n",
            "[nltk_data]   Unzipping tokenizers/punkt.zip.\n",
            "[nltk_data] Downloading package stopwords to /root/nltk_data...\n",
            "[nltk_data]   Unzipping corpora/stopwords.zip.\n"
          ]
        },
        {
          "output_type": "execute_result",
          "data": {
            "text/plain": [
              "True"
            ]
          },
          "metadata": {},
          "execution_count": 9
        }
      ]
    },
    {
      "cell_type": "code",
      "source": [
        "# Инициализируем лемматизатор и список стоп-слов\n",
        "morph = pymorphy2.MorphAnalyzer()\n",
        "russian_stopwords = stopwords.words(\"russian\")"
      ],
      "metadata": {
        "id": "_IzFq9bs7SCc"
      },
      "execution_count": null,
      "outputs": []
    },
    {
      "cell_type": "code",
      "source": [
        "# Функция для предобработки текста\n",
        "def preprocess_text_russian(text):\n",
        "    text = text.lower()  # Приведение к нижнему регистру\n",
        "    words = nltk.word_tokenize(text, language=\"russian\")  # Токенизация\n",
        "    words = [morph.parse(word)[0].normal_form for word in words if word not in russian_stopwords and word.isalpha()]  # Удаление стоп-слов и лемматизация\n",
        "    return \" \".join(words)"
      ],
      "metadata": {
        "id": "IVMV3jra7U6i"
      },
      "execution_count": null,
      "outputs": []
    },
    {
      "cell_type": "code",
      "source": [
        "# Применение функции к столбцу 'Name'\n",
        "df['Processed_Name'] = df['Name'].apply(preprocess_text_russian)"
      ],
      "metadata": {
        "id": "ws51sBvC7Xv8"
      },
      "execution_count": null,
      "outputs": []
    },
    {
      "cell_type": "markdown",
      "source": [
        "## Обучение"
      ],
      "metadata": {
        "id": "a00sbVtR7nrl"
      }
    },
    {
      "cell_type": "code",
      "source": [
        "# Выделяем данные для обучения и правильные ответы\n",
        "y_train = df['Category'] - 1  # категории начинаются с 1"
      ],
      "metadata": {
        "id": "SSlqL5Mg7dHA"
      },
      "execution_count": null,
      "outputs": []
    },
    {
      "cell_type": "code",
      "source": [
        "tokenizer = tf.keras.preprocessing.text.Tokenizer(num_words=num_words)\n",
        "tokenizer.fit_on_texts(df['Processed_Name'])"
      ],
      "metadata": {
        "id": "L4Xx_yD67kPf"
      },
      "execution_count": null,
      "outputs": []
    },
    {
      "cell_type": "code",
      "source": [
        "sequences = tokenizer.texts_to_sequences(df['Processed_Name'])\n",
        "x_train = pad_sequences(sequences, maxlen=max_news_len)"
      ],
      "metadata": {
        "id": "kqvu_vG47s3O"
      },
      "execution_count": null,
      "outputs": []
    },
    {
      "cell_type": "code",
      "source": [
        "# Разделение данных на обучающую и валидационную выборки\n",
        "X_train, X_val, Y_train, Y_val = train_test_split(x_train, utils.to_categorical(y_train, nb_classes), test_size=0.1, random_state=42)"
      ],
      "metadata": {
        "id": "cDQzD4PS7mzz"
      },
      "execution_count": null,
      "outputs": []
    },
    {
      "cell_type": "code",
      "source": [
        "# Балансировка данных с использованием SMOTEENN\n",
        "smote_enn = SMOTEENN(random_state=42)\n",
        "X_resampled, y_resampled = smote_enn.fit_resample(X_train, np.argmax(Y_train, axis=1))"
      ],
      "metadata": {
        "id": "twbNBOQR6733"
      },
      "execution_count": null,
      "outputs": []
    },
    {
      "cell_type": "code",
      "source": [
        "# Преобразование меток обратно в one-hot encoding\n",
        "Y_resampled = utils.to_categorical(y_resampled, nb_classes)"
      ],
      "metadata": {
        "id": "pevUlRUC7h5n"
      },
      "execution_count": null,
      "outputs": []
    },
    {
      "cell_type": "code",
      "source": [
        "# Подсчет весов классов для балансировки\n",
        "class_weights = compute_class_weight(class_weight='balanced', classes=np.unique(y_resampled), y=y_resampled)\n",
        "class_weight_dict = dict(enumerate(class_weights))"
      ],
      "metadata": {
        "id": "K7Rf8JDX70_c"
      },
      "execution_count": null,
      "outputs": []
    },
    {
      "cell_type": "code",
      "source": [
        "model = Sequential([\n",
        "    Embedding(num_words, 32, input_length=max_news_len),\n",
        "    Conv1D(250, 5, padding='valid', activation='relu'),\n",
        "    GlobalMaxPooling1D(),\n",
        "    Dense(128, activation='relu'),\n",
        "    Dropout(0.5),\n",
        "    Dense(nb_classes, activation='softmax')\n",
        "])"
      ],
      "metadata": {
        "id": "IHaewhGj724w"
      },
      "execution_count": null,
      "outputs": []
    },
    {
      "cell_type": "code",
      "source": [
        "model.compile(optimizer='adam', loss='categorical_crossentropy', metrics=['accuracy'])"
      ],
      "metadata": {
        "id": "dFw_qZ4e79t-"
      },
      "execution_count": null,
      "outputs": []
    },
    {
      "cell_type": "code",
      "source": [
        "# Callback для сохранения лучшей модели\n",
        "checkpoint_callback = ModelCheckpoint('dekor_best_model.h5', monitor='val_accuracy', save_best_only=True, verbose=1)"
      ],
      "metadata": {
        "id": "I8Wz6Vuy8DLB"
      },
      "execution_count": null,
      "outputs": []
    },
    {
      "cell_type": "code",
      "source": [
        "# Обучение модели с учетом весов классов\n",
        "history = model.fit(X_train, Y_train, epochs=8, batch_size=128, validation_data=(X_val, Y_val), callbacks=[checkpoint_callback], class_weight=class_weight_dict)"
      ],
      "metadata": {
        "colab": {
          "base_uri": "https://localhost:8080/"
        },
        "id": "ueY-A7V28Fpg",
        "outputId": "2ae70d07-895a-4ba2-9019-7d5eaca38b02"
      },
      "execution_count": null,
      "outputs": [
        {
          "output_type": "stream",
          "name": "stdout",
          "text": [
            "Epoch 1/8\n",
            "365/365 [==============================] - ETA: 0s - loss: 2.7215 - accuracy: 0.5002\n",
            "Epoch 1: val_accuracy improved from -inf to 0.78913, saving model to dekor_best_model.h5\n",
            "365/365 [==============================] - 16s 38ms/step - loss: 2.7215 - accuracy: 0.5002 - val_loss: 0.8186 - val_accuracy: 0.7891\n",
            "Epoch 2/8\n",
            "  3/365 [..............................] - ETA: 10s - loss: 1.0181 - accuracy: 0.7500"
          ]
        },
        {
          "output_type": "stream",
          "name": "stderr",
          "text": [
            "/usr/local/lib/python3.10/dist-packages/keras/src/engine/training.py:3103: UserWarning: You are saving your model as an HDF5 file via `model.save()`. This file format is considered legacy. We recommend using instead the native Keras format, e.g. `model.save('my_model.keras')`.\n",
            "  saving_api.save_model(\n"
          ]
        },
        {
          "output_type": "stream",
          "name": "stdout",
          "text": [
            "365/365 [==============================] - ETA: 0s - loss: 0.7300 - accuracy: 0.8288\n",
            "Epoch 2: val_accuracy improved from 0.78913 to 0.88801, saving model to dekor_best_model.h5\n",
            "365/365 [==============================] - 8s 22ms/step - loss: 0.7300 - accuracy: 0.8288 - val_loss: 0.4387 - val_accuracy: 0.8880\n",
            "Epoch 3/8\n",
            "364/365 [============================>.] - ETA: 0s - loss: 0.4508 - accuracy: 0.8908\n",
            "Epoch 3: val_accuracy improved from 0.88801 to 0.90786, saving model to dekor_best_model.h5\n",
            "365/365 [==============================] - 9s 26ms/step - loss: 0.4505 - accuracy: 0.8908 - val_loss: 0.3341 - val_accuracy: 0.9079\n",
            "Epoch 4/8\n",
            "365/365 [==============================] - ETA: 0s - loss: 0.3342 - accuracy: 0.9194\n",
            "Epoch 4: val_accuracy improved from 0.90786 to 0.92367, saving model to dekor_best_model.h5\n",
            "365/365 [==============================] - 8s 23ms/step - loss: 0.3342 - accuracy: 0.9194 - val_loss: 0.2898 - val_accuracy: 0.9237\n",
            "Epoch 5/8\n",
            "363/365 [============================>.] - ETA: 0s - loss: 0.2639 - accuracy: 0.9361\n",
            "Epoch 5: val_accuracy improved from 0.92367 to 0.93389, saving model to dekor_best_model.h5\n",
            "365/365 [==============================] - 9s 25ms/step - loss: 0.2633 - accuracy: 0.9363 - val_loss: 0.2600 - val_accuracy: 0.9339\n",
            "Epoch 6/8\n",
            "365/365 [==============================] - ETA: 0s - loss: 0.2143 - accuracy: 0.9468\n",
            "Epoch 6: val_accuracy improved from 0.93389 to 0.93716, saving model to dekor_best_model.h5\n",
            "365/365 [==============================] - 9s 24ms/step - loss: 0.2143 - accuracy: 0.9468 - val_loss: 0.2498 - val_accuracy: 0.9372\n",
            "Epoch 7/8\n",
            "365/365 [==============================] - ETA: 0s - loss: 0.1802 - accuracy: 0.9562\n",
            "Epoch 7: val_accuracy improved from 0.93716 to 0.94140, saving model to dekor_best_model.h5\n",
            "365/365 [==============================] - 11s 30ms/step - loss: 0.1802 - accuracy: 0.9562 - val_loss: 0.2515 - val_accuracy: 0.9414\n",
            "Epoch 8/8\n",
            "363/365 [============================>.] - ETA: 0s - loss: 0.1512 - accuracy: 0.9611\n",
            "Epoch 8: val_accuracy improved from 0.94140 to 0.94275, saving model to dekor_best_model.h5\n",
            "365/365 [==============================] - 11s 29ms/step - loss: 0.1510 - accuracy: 0.9612 - val_loss: 0.2503 - val_accuracy: 0.9428\n"
          ]
        }
      ]
    },
    {
      "cell_type": "code",
      "source": [
        "# После обучения, для сохранения лучшей модели на Google Диск, загружаем её из файла 'dekor_best_model.h5'\n",
        "best_model_cnn = tf.keras.models.load_model('dekor_best_model.h5')"
      ],
      "metadata": {
        "id": "G7DYc2B99Y0z"
      },
      "execution_count": null,
      "outputs": []
    },
    {
      "cell_type": "code",
      "source": [
        "# Указываем путь для сохранения на Google Диск\n",
        "model_save_path = '/content/drive/My Drive/Colab Notebooks/dekor_best_model.h5'"
      ],
      "metadata": {
        "id": "xtDbdBxy-lch"
      },
      "execution_count": null,
      "outputs": []
    },
    {
      "cell_type": "code",
      "source": [
        "# Сохраняем лучшую модель\n",
        "best_model_cnn.save(model_save_path)"
      ],
      "metadata": {
        "id": "Qy4nJvse9u2P"
      },
      "execution_count": null,
      "outputs": []
    },
    {
      "cell_type": "code",
      "source": [
        "with open('/content/drive/My Drive/Colab Notebooks/dekor_tokenizer.pickle', 'wb') as handle:\n",
        "    pickle.dump(tokenizer, handle, protocol=pickle.HIGHEST_PROTOCOL)"
      ],
      "metadata": {
        "id": "dg96ogf7-qsn"
      },
      "execution_count": null,
      "outputs": []
    },
    {
      "cell_type": "code",
      "execution_count": null,
      "metadata": {
        "colab": {
          "base_uri": "https://localhost:8080/",
          "height": 449
        },
        "id": "D87iUZmNP0rk",
        "outputId": "2dcdc4fb-56c6-4f6a-9d8c-57da9fe73f61"
      },
      "outputs": [
        {
          "output_type": "display_data",
          "data": {
            "text/plain": [
              "<Figure size 640x480 with 1 Axes>"
            ],
            "image/png": "[encoded data removed]"
          },
          "metadata": {}
        }
      ],
      "source": [
        "plt.plot(history.history['accuracy'],\n",
        "         label='Доля верных ответов на обучающем наборе')\n",
        "plt.plot(history.history['val_accuracy'],\n",
        "         label='Доля верных ответов на проверочном наборе')\n",
        "plt.xlabel('Эпоха обучения')\n",
        "plt.ylabel('Доля верных ответов')\n",
        "plt.legend()\n",
        "plt.show()"
      ]
    }
  ]
}